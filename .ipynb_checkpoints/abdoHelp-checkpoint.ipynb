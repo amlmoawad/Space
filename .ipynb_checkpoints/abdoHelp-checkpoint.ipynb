{
 "cells": [
  {
   "cell_type": "code",
   "execution_count": 1,
   "id": "de74a78b",
   "metadata": {},
   "outputs": [],
   "source": [
    "# pip install pandas\n",
    "# pip install numpy\n",
    "# pip install scikit-learn"
   ]
  },
  {
   "cell_type": "code",
   "execution_count": 2,
   "id": "bf3902e0",
   "metadata": {},
   "outputs": [],
   "source": [
    "# pip install joblib"
   ]
  },
  {
   "cell_type": "code",
   "execution_count": 3,
   "id": "e7ef1ee1",
   "metadata": {},
   "outputs": [],
   "source": [
    "import joblib as jb"
   ]
  },
  {
   "cell_type": "code",
   "execution_count": 4,
   "id": "750f5df9",
   "metadata": {},
   "outputs": [],
   "source": [
    "import pandas as pd\n",
    "import numpy as np"
   ]
  },
  {
   "cell_type": "code",
   "execution_count": 5,
   "id": "28c569ae",
   "metadata": {},
   "outputs": [],
   "source": [
    "df=pd.read_csv(r\"C:\\Users\\user\\Downloads\\archive\\neo.csv\")"
   ]
  },
  {
   "cell_type": "code",
   "execution_count": 6,
   "id": "ce9f5849",
   "metadata": {
    "scrolled": true
   },
   "outputs": [
    {
     "data": {
      "text/html": [
       "<div>\n",
       "<style scoped>\n",
       "    .dataframe tbody tr th:only-of-type {\n",
       "        vertical-align: middle;\n",
       "    }\n",
       "\n",
       "    .dataframe tbody tr th {\n",
       "        vertical-align: top;\n",
       "    }\n",
       "\n",
       "    .dataframe thead th {\n",
       "        text-align: right;\n",
       "    }\n",
       "</style>\n",
       "<table border=\"1\" class=\"dataframe\">\n",
       "  <thead>\n",
       "    <tr style=\"text-align: right;\">\n",
       "      <th></th>\n",
       "      <th>id</th>\n",
       "      <th>name</th>\n",
       "      <th>est_diameter_min</th>\n",
       "      <th>est_diameter_max</th>\n",
       "      <th>relative_velocity</th>\n",
       "      <th>miss_distance</th>\n",
       "      <th>orbiting_body</th>\n",
       "      <th>sentry_object</th>\n",
       "      <th>absolute_magnitude</th>\n",
       "      <th>hazardous</th>\n",
       "    </tr>\n",
       "  </thead>\n",
       "  <tbody>\n",
       "    <tr>\n",
       "      <th>0</th>\n",
       "      <td>2162635</td>\n",
       "      <td>162635 (2000 SS164)</td>\n",
       "      <td>1.198271</td>\n",
       "      <td>2.679415</td>\n",
       "      <td>13569.249224</td>\n",
       "      <td>5.483974e+07</td>\n",
       "      <td>Earth</td>\n",
       "      <td>False</td>\n",
       "      <td>16.73</td>\n",
       "      <td>False</td>\n",
       "    </tr>\n",
       "    <tr>\n",
       "      <th>1</th>\n",
       "      <td>2277475</td>\n",
       "      <td>277475 (2005 WK4)</td>\n",
       "      <td>0.265800</td>\n",
       "      <td>0.594347</td>\n",
       "      <td>73588.726663</td>\n",
       "      <td>6.143813e+07</td>\n",
       "      <td>Earth</td>\n",
       "      <td>False</td>\n",
       "      <td>20.00</td>\n",
       "      <td>True</td>\n",
       "    </tr>\n",
       "    <tr>\n",
       "      <th>2</th>\n",
       "      <td>2512244</td>\n",
       "      <td>512244 (2015 YE18)</td>\n",
       "      <td>0.722030</td>\n",
       "      <td>1.614507</td>\n",
       "      <td>114258.692129</td>\n",
       "      <td>4.979872e+07</td>\n",
       "      <td>Earth</td>\n",
       "      <td>False</td>\n",
       "      <td>17.83</td>\n",
       "      <td>False</td>\n",
       "    </tr>\n",
       "    <tr>\n",
       "      <th>3</th>\n",
       "      <td>3596030</td>\n",
       "      <td>(2012 BV13)</td>\n",
       "      <td>0.096506</td>\n",
       "      <td>0.215794</td>\n",
       "      <td>24764.303138</td>\n",
       "      <td>2.543497e+07</td>\n",
       "      <td>Earth</td>\n",
       "      <td>False</td>\n",
       "      <td>22.20</td>\n",
       "      <td>False</td>\n",
       "    </tr>\n",
       "    <tr>\n",
       "      <th>4</th>\n",
       "      <td>3667127</td>\n",
       "      <td>(2014 GE35)</td>\n",
       "      <td>0.255009</td>\n",
       "      <td>0.570217</td>\n",
       "      <td>42737.733765</td>\n",
       "      <td>4.627557e+07</td>\n",
       "      <td>Earth</td>\n",
       "      <td>False</td>\n",
       "      <td>20.09</td>\n",
       "      <td>True</td>\n",
       "    </tr>\n",
       "    <tr>\n",
       "      <th>5</th>\n",
       "      <td>54138696</td>\n",
       "      <td>(2021 GY23)</td>\n",
       "      <td>0.036354</td>\n",
       "      <td>0.081291</td>\n",
       "      <td>34297.587778</td>\n",
       "      <td>4.058569e+07</td>\n",
       "      <td>Earth</td>\n",
       "      <td>False</td>\n",
       "      <td>24.32</td>\n",
       "      <td>False</td>\n",
       "    </tr>\n",
       "    <tr>\n",
       "      <th>6</th>\n",
       "      <td>54189957</td>\n",
       "      <td>(2021 PY40)</td>\n",
       "      <td>0.171615</td>\n",
       "      <td>0.383743</td>\n",
       "      <td>27529.472307</td>\n",
       "      <td>2.906912e+07</td>\n",
       "      <td>Earth</td>\n",
       "      <td>False</td>\n",
       "      <td>20.95</td>\n",
       "      <td>False</td>\n",
       "    </tr>\n",
       "  </tbody>\n",
       "</table>\n",
       "</div>"
      ],
      "text/plain": [
       "         id                 name  est_diameter_min  est_diameter_max  \\\n",
       "0   2162635  162635 (2000 SS164)          1.198271          2.679415   \n",
       "1   2277475    277475 (2005 WK4)          0.265800          0.594347   \n",
       "2   2512244   512244 (2015 YE18)          0.722030          1.614507   \n",
       "3   3596030          (2012 BV13)          0.096506          0.215794   \n",
       "4   3667127          (2014 GE35)          0.255009          0.570217   \n",
       "5  54138696          (2021 GY23)          0.036354          0.081291   \n",
       "6  54189957          (2021 PY40)          0.171615          0.383743   \n",
       "\n",
       "   relative_velocity  miss_distance orbiting_body  sentry_object  \\\n",
       "0       13569.249224   5.483974e+07         Earth          False   \n",
       "1       73588.726663   6.143813e+07         Earth          False   \n",
       "2      114258.692129   4.979872e+07         Earth          False   \n",
       "3       24764.303138   2.543497e+07         Earth          False   \n",
       "4       42737.733765   4.627557e+07         Earth          False   \n",
       "5       34297.587778   4.058569e+07         Earth          False   \n",
       "6       27529.472307   2.906912e+07         Earth          False   \n",
       "\n",
       "   absolute_magnitude  hazardous  \n",
       "0               16.73      False  \n",
       "1               20.00       True  \n",
       "2               17.83      False  \n",
       "3               22.20      False  \n",
       "4               20.09       True  \n",
       "5               24.32      False  \n",
       "6               20.95      False  "
      ]
     },
     "execution_count": 6,
     "metadata": {},
     "output_type": "execute_result"
    }
   ],
   "source": [
    "df.head(7)"
   ]
  },
  {
   "cell_type": "code",
   "execution_count": 7,
   "id": "077abb07",
   "metadata": {},
   "outputs": [
    {
     "data": {
      "text/plain": [
       "False    81996\n",
       "True      8840\n",
       "Name: hazardous, dtype: int64"
      ]
     },
     "execution_count": 7,
     "metadata": {},
     "output_type": "execute_result"
    }
   ],
   "source": [
    "df[\"hazardous\"].value_counts()"
   ]
  },
  {
   "cell_type": "markdown",
   "id": "fc2099a8",
   "metadata": {},
   "source": [
    "id , name , orbiting_body , sentry_object ---->Drop"
   ]
  },
  {
   "cell_type": "code",
   "execution_count": 8,
   "id": "34eb4889",
   "metadata": {},
   "outputs": [
    {
     "data": {
      "text/plain": [
       "0.0006089126"
      ]
     },
     "execution_count": 8,
     "metadata": {},
     "output_type": "execute_result"
    }
   ],
   "source": [
    "np.min(df[\"est_diameter_min\"])"
   ]
  },
  {
   "cell_type": "code",
   "execution_count": 9,
   "id": "1de19b2c",
   "metadata": {},
   "outputs": [
    {
     "name": "stdout",
     "output_type": "stream",
     "text": [
      "<class 'pandas.core.frame.DataFrame'>\n",
      "RangeIndex: 90836 entries, 0 to 90835\n",
      "Data columns (total 10 columns):\n",
      " #   Column              Non-Null Count  Dtype  \n",
      "---  ------              --------------  -----  \n",
      " 0   id                  90836 non-null  int64  \n",
      " 1   name                90836 non-null  object \n",
      " 2   est_diameter_min    90836 non-null  float64\n",
      " 3   est_diameter_max    90836 non-null  float64\n",
      " 4   relative_velocity   90836 non-null  float64\n",
      " 5   miss_distance       90836 non-null  float64\n",
      " 6   orbiting_body       90836 non-null  object \n",
      " 7   sentry_object       90836 non-null  bool   \n",
      " 8   absolute_magnitude  90836 non-null  float64\n",
      " 9   hazardous           90836 non-null  bool   \n",
      "dtypes: bool(2), float64(5), int64(1), object(2)\n",
      "memory usage: 5.7+ MB\n"
     ]
    }
   ],
   "source": [
    "df.info()"
   ]
  },
  {
   "cell_type": "code",
   "execution_count": 10,
   "id": "3cb23597",
   "metadata": {},
   "outputs": [
    {
     "data": {
      "text/html": [
       "<div>\n",
       "<style scoped>\n",
       "    .dataframe tbody tr th:only-of-type {\n",
       "        vertical-align: middle;\n",
       "    }\n",
       "\n",
       "    .dataframe tbody tr th {\n",
       "        vertical-align: top;\n",
       "    }\n",
       "\n",
       "    .dataframe thead th {\n",
       "        text-align: right;\n",
       "    }\n",
       "</style>\n",
       "<table border=\"1\" class=\"dataframe\">\n",
       "  <thead>\n",
       "    <tr style=\"text-align: right;\">\n",
       "      <th></th>\n",
       "      <th>id</th>\n",
       "      <th>est_diameter_min</th>\n",
       "      <th>est_diameter_max</th>\n",
       "      <th>relative_velocity</th>\n",
       "      <th>miss_distance</th>\n",
       "      <th>absolute_magnitude</th>\n",
       "    </tr>\n",
       "  </thead>\n",
       "  <tbody>\n",
       "    <tr>\n",
       "      <th>count</th>\n",
       "      <td>9.083600e+04</td>\n",
       "      <td>90836.000000</td>\n",
       "      <td>90836.000000</td>\n",
       "      <td>90836.000000</td>\n",
       "      <td>9.083600e+04</td>\n",
       "      <td>90836.000000</td>\n",
       "    </tr>\n",
       "    <tr>\n",
       "      <th>mean</th>\n",
       "      <td>1.438288e+07</td>\n",
       "      <td>0.127432</td>\n",
       "      <td>0.284947</td>\n",
       "      <td>48066.918918</td>\n",
       "      <td>3.706655e+07</td>\n",
       "      <td>23.527103</td>\n",
       "    </tr>\n",
       "    <tr>\n",
       "      <th>std</th>\n",
       "      <td>2.087202e+07</td>\n",
       "      <td>0.298511</td>\n",
       "      <td>0.667491</td>\n",
       "      <td>25293.296961</td>\n",
       "      <td>2.235204e+07</td>\n",
       "      <td>2.894086</td>\n",
       "    </tr>\n",
       "    <tr>\n",
       "      <th>min</th>\n",
       "      <td>2.000433e+06</td>\n",
       "      <td>0.000609</td>\n",
       "      <td>0.001362</td>\n",
       "      <td>203.346433</td>\n",
       "      <td>6.745533e+03</td>\n",
       "      <td>9.230000</td>\n",
       "    </tr>\n",
       "    <tr>\n",
       "      <th>25%</th>\n",
       "      <td>3.448110e+06</td>\n",
       "      <td>0.019256</td>\n",
       "      <td>0.043057</td>\n",
       "      <td>28619.020645</td>\n",
       "      <td>1.721082e+07</td>\n",
       "      <td>21.340000</td>\n",
       "    </tr>\n",
       "    <tr>\n",
       "      <th>50%</th>\n",
       "      <td>3.748362e+06</td>\n",
       "      <td>0.048368</td>\n",
       "      <td>0.108153</td>\n",
       "      <td>44190.117890</td>\n",
       "      <td>3.784658e+07</td>\n",
       "      <td>23.700000</td>\n",
       "    </tr>\n",
       "    <tr>\n",
       "      <th>75%</th>\n",
       "      <td>3.884023e+06</td>\n",
       "      <td>0.143402</td>\n",
       "      <td>0.320656</td>\n",
       "      <td>62923.604633</td>\n",
       "      <td>5.654900e+07</td>\n",
       "      <td>25.700000</td>\n",
       "    </tr>\n",
       "    <tr>\n",
       "      <th>max</th>\n",
       "      <td>5.427591e+07</td>\n",
       "      <td>37.892650</td>\n",
       "      <td>84.730541</td>\n",
       "      <td>236990.128088</td>\n",
       "      <td>7.479865e+07</td>\n",
       "      <td>33.200000</td>\n",
       "    </tr>\n",
       "  </tbody>\n",
       "</table>\n",
       "</div>"
      ],
      "text/plain": [
       "                 id  est_diameter_min  est_diameter_max  relative_velocity  \\\n",
       "count  9.083600e+04      90836.000000      90836.000000       90836.000000   \n",
       "mean   1.438288e+07          0.127432          0.284947       48066.918918   \n",
       "std    2.087202e+07          0.298511          0.667491       25293.296961   \n",
       "min    2.000433e+06          0.000609          0.001362         203.346433   \n",
       "25%    3.448110e+06          0.019256          0.043057       28619.020645   \n",
       "50%    3.748362e+06          0.048368          0.108153       44190.117890   \n",
       "75%    3.884023e+06          0.143402          0.320656       62923.604633   \n",
       "max    5.427591e+07         37.892650         84.730541      236990.128088   \n",
       "\n",
       "       miss_distance  absolute_magnitude  \n",
       "count   9.083600e+04        90836.000000  \n",
       "mean    3.706655e+07           23.527103  \n",
       "std     2.235204e+07            2.894086  \n",
       "min     6.745533e+03            9.230000  \n",
       "25%     1.721082e+07           21.340000  \n",
       "50%     3.784658e+07           23.700000  \n",
       "75%     5.654900e+07           25.700000  \n",
       "max     7.479865e+07           33.200000  "
      ]
     },
     "execution_count": 10,
     "metadata": {},
     "output_type": "execute_result"
    }
   ],
   "source": [
    "df.describe()"
   ]
  },
  {
   "cell_type": "code",
   "execution_count": 11,
   "id": "89477a4c",
   "metadata": {},
   "outputs": [],
   "source": [
    "df.drop(columns=[\"id\",\"name\",\"orbiting_body\",\"sentry_object\"],inplace=True)"
   ]
  },
  {
   "cell_type": "code",
   "execution_count": 12,
   "id": "140c3640",
   "metadata": {},
   "outputs": [
    {
     "data": {
      "text/html": [
       "<div>\n",
       "<style scoped>\n",
       "    .dataframe tbody tr th:only-of-type {\n",
       "        vertical-align: middle;\n",
       "    }\n",
       "\n",
       "    .dataframe tbody tr th {\n",
       "        vertical-align: top;\n",
       "    }\n",
       "\n",
       "    .dataframe thead th {\n",
       "        text-align: right;\n",
       "    }\n",
       "</style>\n",
       "<table border=\"1\" class=\"dataframe\">\n",
       "  <thead>\n",
       "    <tr style=\"text-align: right;\">\n",
       "      <th></th>\n",
       "      <th>est_diameter_min</th>\n",
       "      <th>est_diameter_max</th>\n",
       "      <th>relative_velocity</th>\n",
       "      <th>miss_distance</th>\n",
       "      <th>absolute_magnitude</th>\n",
       "      <th>hazardous</th>\n",
       "    </tr>\n",
       "  </thead>\n",
       "  <tbody>\n",
       "    <tr>\n",
       "      <th>0</th>\n",
       "      <td>1.198271</td>\n",
       "      <td>2.679415</td>\n",
       "      <td>13569.249224</td>\n",
       "      <td>5.483974e+07</td>\n",
       "      <td>16.73</td>\n",
       "      <td>False</td>\n",
       "    </tr>\n",
       "    <tr>\n",
       "      <th>1</th>\n",
       "      <td>0.265800</td>\n",
       "      <td>0.594347</td>\n",
       "      <td>73588.726663</td>\n",
       "      <td>6.143813e+07</td>\n",
       "      <td>20.00</td>\n",
       "      <td>True</td>\n",
       "    </tr>\n",
       "    <tr>\n",
       "      <th>2</th>\n",
       "      <td>0.722030</td>\n",
       "      <td>1.614507</td>\n",
       "      <td>114258.692129</td>\n",
       "      <td>4.979872e+07</td>\n",
       "      <td>17.83</td>\n",
       "      <td>False</td>\n",
       "    </tr>\n",
       "    <tr>\n",
       "      <th>3</th>\n",
       "      <td>0.096506</td>\n",
       "      <td>0.215794</td>\n",
       "      <td>24764.303138</td>\n",
       "      <td>2.543497e+07</td>\n",
       "      <td>22.20</td>\n",
       "      <td>False</td>\n",
       "    </tr>\n",
       "    <tr>\n",
       "      <th>4</th>\n",
       "      <td>0.255009</td>\n",
       "      <td>0.570217</td>\n",
       "      <td>42737.733765</td>\n",
       "      <td>4.627557e+07</td>\n",
       "      <td>20.09</td>\n",
       "      <td>True</td>\n",
       "    </tr>\n",
       "  </tbody>\n",
       "</table>\n",
       "</div>"
      ],
      "text/plain": [
       "   est_diameter_min  est_diameter_max  relative_velocity  miss_distance  \\\n",
       "0          1.198271          2.679415       13569.249224   5.483974e+07   \n",
       "1          0.265800          0.594347       73588.726663   6.143813e+07   \n",
       "2          0.722030          1.614507      114258.692129   4.979872e+07   \n",
       "3          0.096506          0.215794       24764.303138   2.543497e+07   \n",
       "4          0.255009          0.570217       42737.733765   4.627557e+07   \n",
       "\n",
       "   absolute_magnitude  hazardous  \n",
       "0               16.73      False  \n",
       "1               20.00       True  \n",
       "2               17.83      False  \n",
       "3               22.20      False  \n",
       "4               20.09       True  "
      ]
     },
     "execution_count": 12,
     "metadata": {},
     "output_type": "execute_result"
    }
   ],
   "source": [
    "df.head()"
   ]
  },
  {
   "cell_type": "code",
   "execution_count": 13,
   "id": "ca57841a",
   "metadata": {},
   "outputs": [],
   "source": [
    "X=df.drop(columns=[\"hazardous\"])\n",
    "y=df[\"hazardous\"]"
   ]
  },
  {
   "cell_type": "code",
   "execution_count": 14,
   "id": "d0fc10f5",
   "metadata": {},
   "outputs": [
    {
     "data": {
      "text/html": [
       "<div>\n",
       "<style scoped>\n",
       "    .dataframe tbody tr th:only-of-type {\n",
       "        vertical-align: middle;\n",
       "    }\n",
       "\n",
       "    .dataframe tbody tr th {\n",
       "        vertical-align: top;\n",
       "    }\n",
       "\n",
       "    .dataframe thead th {\n",
       "        text-align: right;\n",
       "    }\n",
       "</style>\n",
       "<table border=\"1\" class=\"dataframe\">\n",
       "  <thead>\n",
       "    <tr style=\"text-align: right;\">\n",
       "      <th></th>\n",
       "      <th>est_diameter_min</th>\n",
       "      <th>est_diameter_max</th>\n",
       "      <th>relative_velocity</th>\n",
       "      <th>miss_distance</th>\n",
       "      <th>absolute_magnitude</th>\n",
       "    </tr>\n",
       "  </thead>\n",
       "  <tbody>\n",
       "    <tr>\n",
       "      <th>0</th>\n",
       "      <td>1.198271</td>\n",
       "      <td>2.679415</td>\n",
       "      <td>13569.249224</td>\n",
       "      <td>5.483974e+07</td>\n",
       "      <td>16.73</td>\n",
       "    </tr>\n",
       "    <tr>\n",
       "      <th>1</th>\n",
       "      <td>0.265800</td>\n",
       "      <td>0.594347</td>\n",
       "      <td>73588.726663</td>\n",
       "      <td>6.143813e+07</td>\n",
       "      <td>20.00</td>\n",
       "    </tr>\n",
       "    <tr>\n",
       "      <th>2</th>\n",
       "      <td>0.722030</td>\n",
       "      <td>1.614507</td>\n",
       "      <td>114258.692129</td>\n",
       "      <td>4.979872e+07</td>\n",
       "      <td>17.83</td>\n",
       "    </tr>\n",
       "    <tr>\n",
       "      <th>3</th>\n",
       "      <td>0.096506</td>\n",
       "      <td>0.215794</td>\n",
       "      <td>24764.303138</td>\n",
       "      <td>2.543497e+07</td>\n",
       "      <td>22.20</td>\n",
       "    </tr>\n",
       "    <tr>\n",
       "      <th>4</th>\n",
       "      <td>0.255009</td>\n",
       "      <td>0.570217</td>\n",
       "      <td>42737.733765</td>\n",
       "      <td>4.627557e+07</td>\n",
       "      <td>20.09</td>\n",
       "    </tr>\n",
       "  </tbody>\n",
       "</table>\n",
       "</div>"
      ],
      "text/plain": [
       "   est_diameter_min  est_diameter_max  relative_velocity  miss_distance  \\\n",
       "0          1.198271          2.679415       13569.249224   5.483974e+07   \n",
       "1          0.265800          0.594347       73588.726663   6.143813e+07   \n",
       "2          0.722030          1.614507      114258.692129   4.979872e+07   \n",
       "3          0.096506          0.215794       24764.303138   2.543497e+07   \n",
       "4          0.255009          0.570217       42737.733765   4.627557e+07   \n",
       "\n",
       "   absolute_magnitude  \n",
       "0               16.73  \n",
       "1               20.00  \n",
       "2               17.83  \n",
       "3               22.20  \n",
       "4               20.09  "
      ]
     },
     "execution_count": 14,
     "metadata": {},
     "output_type": "execute_result"
    }
   ],
   "source": [
    "X.head()"
   ]
  },
  {
   "cell_type": "code",
   "execution_count": 15,
   "id": "8cc601d1",
   "metadata": {},
   "outputs": [
    {
     "data": {
      "text/plain": [
       "array([[3.16072151e-02, 3.16072151e-02, 5.64469972e-02, 7.33140811e-01,\n",
       "        3.12891114e-01],\n",
       "       [6.99859604e-03, 6.99859603e-03, 3.09921777e-01, 8.21364026e-01,\n",
       "        4.49311640e-01],\n",
       "       [1.90388437e-02, 1.90388437e-02, 4.81679530e-01, 6.65740213e-01,\n",
       "        3.58781811e-01],\n",
       "       ...,\n",
       "       [8.27278640e-04, 8.27278640e-04, 3.10974339e-02, 3.79640314e-01,\n",
       "        6.41218189e-01],\n",
       "       [1.77130266e-04, 1.77130265e-04, 2.91383698e-01, 9.18352249e-01,\n",
       "        7.74718398e-01],\n",
       "       [1.03590911e-03, 1.03590911e-03, 1.13271142e-01, 7.99088943e-01,\n",
       "        6.21193158e-01]])"
      ]
     },
     "execution_count": 15,
     "metadata": {},
     "output_type": "execute_result"
    }
   ],
   "source": [
    "# x-min/max-min\n",
    "from sklearn.preprocessing import MinMaxScaler\n",
    "mms=MinMaxScaler()\n",
    "X=mms.fit_transform(X)\n",
    "X"
   ]
  },
  {
   "cell_type": "code",
   "execution_count": 16,
   "id": "ca0bf54d",
   "metadata": {},
   "outputs": [
    {
     "data": {
      "text/plain": [
       "0    False\n",
       "1     True\n",
       "2    False\n",
       "3    False\n",
       "4     True\n",
       "Name: hazardous, dtype: bool"
      ]
     },
     "execution_count": 16,
     "metadata": {},
     "output_type": "execute_result"
    }
   ],
   "source": [
    "y.head()"
   ]
  },
  {
   "cell_type": "code",
   "execution_count": 17,
   "id": "59731eac",
   "metadata": {},
   "outputs": [
    {
     "data": {
      "text/plain": [
       "array([[7.98719342e-05, 7.98719338e-05, 3.96590905e-01, 2.38542697e-03,\n",
       "        8.38130997e-01],\n",
       "       [2.10232551e-03, 2.10232551e-03, 3.11189586e-01, 5.50697588e-01,\n",
       "        5.57780559e-01],\n",
       "       [1.06010565e-02, 1.06010565e-02, 2.95831790e-01, 5.45837353e-01,\n",
       "        4.11764706e-01],\n",
       "       ...,\n",
       "       [1.82897540e-03, 1.82897540e-03, 2.42725478e-01, 5.61767404e-01,\n",
       "        5.70296204e-01],\n",
       "       [4.26525814e-04, 4.26525814e-04, 1.46412606e-01, 2.22046830e-01,\n",
       "        6.99624531e-01],\n",
       "       [9.52223747e-04, 9.52223746e-04, 2.06970096e-01, 5.01739747e-01,\n",
       "        6.28702545e-01]])"
      ]
     },
     "execution_count": 17,
     "metadata": {},
     "output_type": "execute_result"
    }
   ],
   "source": [
    "from sklearn.model_selection import train_test_split\n",
    "X_train , X_test , y_train , y_test=train_test_split(X,y,train_size=0.8,random_state=45)\n",
    "X_train"
   ]
  },
  {
   "cell_type": "code",
   "execution_count": 18,
   "id": "cdbf8d0b",
   "metadata": {},
   "outputs": [],
   "source": [
    "from sklearn.linear_model import LogisticRegression\n",
    "lr=LogisticRegression()"
   ]
  },
  {
   "cell_type": "code",
   "execution_count": 19,
   "id": "90c62a73",
   "metadata": {},
   "outputs": [
    {
     "data": {
      "text/html": [
       "<style>#sk-container-id-1 {color: black;background-color: white;}#sk-container-id-1 pre{padding: 0;}#sk-container-id-1 div.sk-toggleable {background-color: white;}#sk-container-id-1 label.sk-toggleable__label {cursor: pointer;display: block;width: 100%;margin-bottom: 0;padding: 0.3em;box-sizing: border-box;text-align: center;}#sk-container-id-1 label.sk-toggleable__label-arrow:before {content: \"▸\";float: left;margin-right: 0.25em;color: #696969;}#sk-container-id-1 label.sk-toggleable__label-arrow:hover:before {color: black;}#sk-container-id-1 div.sk-estimator:hover label.sk-toggleable__label-arrow:before {color: black;}#sk-container-id-1 div.sk-toggleable__content {max-height: 0;max-width: 0;overflow: hidden;text-align: left;background-color: #f0f8ff;}#sk-container-id-1 div.sk-toggleable__content pre {margin: 0.2em;color: black;border-radius: 0.25em;background-color: #f0f8ff;}#sk-container-id-1 input.sk-toggleable__control:checked~div.sk-toggleable__content {max-height: 200px;max-width: 100%;overflow: auto;}#sk-container-id-1 input.sk-toggleable__control:checked~label.sk-toggleable__label-arrow:before {content: \"▾\";}#sk-container-id-1 div.sk-estimator input.sk-toggleable__control:checked~label.sk-toggleable__label {background-color: #d4ebff;}#sk-container-id-1 div.sk-label input.sk-toggleable__control:checked~label.sk-toggleable__label {background-color: #d4ebff;}#sk-container-id-1 input.sk-hidden--visually {border: 0;clip: rect(1px 1px 1px 1px);clip: rect(1px, 1px, 1px, 1px);height: 1px;margin: -1px;overflow: hidden;padding: 0;position: absolute;width: 1px;}#sk-container-id-1 div.sk-estimator {font-family: monospace;background-color: #f0f8ff;border: 1px dotted black;border-radius: 0.25em;box-sizing: border-box;margin-bottom: 0.5em;}#sk-container-id-1 div.sk-estimator:hover {background-color: #d4ebff;}#sk-container-id-1 div.sk-parallel-item::after {content: \"\";width: 100%;border-bottom: 1px solid gray;flex-grow: 1;}#sk-container-id-1 div.sk-label:hover label.sk-toggleable__label {background-color: #d4ebff;}#sk-container-id-1 div.sk-serial::before {content: \"\";position: absolute;border-left: 1px solid gray;box-sizing: border-box;top: 0;bottom: 0;left: 50%;z-index: 0;}#sk-container-id-1 div.sk-serial {display: flex;flex-direction: column;align-items: center;background-color: white;padding-right: 0.2em;padding-left: 0.2em;position: relative;}#sk-container-id-1 div.sk-item {position: relative;z-index: 1;}#sk-container-id-1 div.sk-parallel {display: flex;align-items: stretch;justify-content: center;background-color: white;position: relative;}#sk-container-id-1 div.sk-item::before, #sk-container-id-1 div.sk-parallel-item::before {content: \"\";position: absolute;border-left: 1px solid gray;box-sizing: border-box;top: 0;bottom: 0;left: 50%;z-index: -1;}#sk-container-id-1 div.sk-parallel-item {display: flex;flex-direction: column;z-index: 1;position: relative;background-color: white;}#sk-container-id-1 div.sk-parallel-item:first-child::after {align-self: flex-end;width: 50%;}#sk-container-id-1 div.sk-parallel-item:last-child::after {align-self: flex-start;width: 50%;}#sk-container-id-1 div.sk-parallel-item:only-child::after {width: 0;}#sk-container-id-1 div.sk-dashed-wrapped {border: 1px dashed gray;margin: 0 0.4em 0.5em 0.4em;box-sizing: border-box;padding-bottom: 0.4em;background-color: white;}#sk-container-id-1 div.sk-label label {font-family: monospace;font-weight: bold;display: inline-block;line-height: 1.2em;}#sk-container-id-1 div.sk-label-container {text-align: center;}#sk-container-id-1 div.sk-container {/* jupyter's `normalize.less` sets `[hidden] { display: none; }` but bootstrap.min.css set `[hidden] { display: none !important; }` so we also need the `!important` here to be able to override the default hidden behavior on the sphinx rendered scikit-learn.org. See: https://github.com/scikit-learn/scikit-learn/issues/21755 */display: inline-block !important;position: relative;}#sk-container-id-1 div.sk-text-repr-fallback {display: none;}</style><div id=\"sk-container-id-1\" class=\"sk-top-container\"><div class=\"sk-text-repr-fallback\"><pre>LogisticRegression()</pre><b>In a Jupyter environment, please rerun this cell to show the HTML representation or trust the notebook. <br />On GitHub, the HTML representation is unable to render, please try loading this page with nbviewer.org.</b></div><div class=\"sk-container\" hidden><div class=\"sk-item\"><div class=\"sk-estimator sk-toggleable\"><input class=\"sk-toggleable__control sk-hidden--visually\" id=\"sk-estimator-id-1\" type=\"checkbox\" checked><label for=\"sk-estimator-id-1\" class=\"sk-toggleable__label sk-toggleable__label-arrow\">LogisticRegression</label><div class=\"sk-toggleable__content\"><pre>LogisticRegression()</pre></div></div></div></div></div>"
      ],
      "text/plain": [
       "LogisticRegression()"
      ]
     },
     "execution_count": 19,
     "metadata": {},
     "output_type": "execute_result"
    }
   ],
   "source": [
    "lr"
   ]
  },
  {
   "cell_type": "code",
   "execution_count": 20,
   "id": "8d284e04",
   "metadata": {},
   "outputs": [
    {
     "data": {
      "text/html": [
       "<style>#sk-container-id-2 {color: black;background-color: white;}#sk-container-id-2 pre{padding: 0;}#sk-container-id-2 div.sk-toggleable {background-color: white;}#sk-container-id-2 label.sk-toggleable__label {cursor: pointer;display: block;width: 100%;margin-bottom: 0;padding: 0.3em;box-sizing: border-box;text-align: center;}#sk-container-id-2 label.sk-toggleable__label-arrow:before {content: \"▸\";float: left;margin-right: 0.25em;color: #696969;}#sk-container-id-2 label.sk-toggleable__label-arrow:hover:before {color: black;}#sk-container-id-2 div.sk-estimator:hover label.sk-toggleable__label-arrow:before {color: black;}#sk-container-id-2 div.sk-toggleable__content {max-height: 0;max-width: 0;overflow: hidden;text-align: left;background-color: #f0f8ff;}#sk-container-id-2 div.sk-toggleable__content pre {margin: 0.2em;color: black;border-radius: 0.25em;background-color: #f0f8ff;}#sk-container-id-2 input.sk-toggleable__control:checked~div.sk-toggleable__content {max-height: 200px;max-width: 100%;overflow: auto;}#sk-container-id-2 input.sk-toggleable__control:checked~label.sk-toggleable__label-arrow:before {content: \"▾\";}#sk-container-id-2 div.sk-estimator input.sk-toggleable__control:checked~label.sk-toggleable__label {background-color: #d4ebff;}#sk-container-id-2 div.sk-label input.sk-toggleable__control:checked~label.sk-toggleable__label {background-color: #d4ebff;}#sk-container-id-2 input.sk-hidden--visually {border: 0;clip: rect(1px 1px 1px 1px);clip: rect(1px, 1px, 1px, 1px);height: 1px;margin: -1px;overflow: hidden;padding: 0;position: absolute;width: 1px;}#sk-container-id-2 div.sk-estimator {font-family: monospace;background-color: #f0f8ff;border: 1px dotted black;border-radius: 0.25em;box-sizing: border-box;margin-bottom: 0.5em;}#sk-container-id-2 div.sk-estimator:hover {background-color: #d4ebff;}#sk-container-id-2 div.sk-parallel-item::after {content: \"\";width: 100%;border-bottom: 1px solid gray;flex-grow: 1;}#sk-container-id-2 div.sk-label:hover label.sk-toggleable__label {background-color: #d4ebff;}#sk-container-id-2 div.sk-serial::before {content: \"\";position: absolute;border-left: 1px solid gray;box-sizing: border-box;top: 0;bottom: 0;left: 50%;z-index: 0;}#sk-container-id-2 div.sk-serial {display: flex;flex-direction: column;align-items: center;background-color: white;padding-right: 0.2em;padding-left: 0.2em;position: relative;}#sk-container-id-2 div.sk-item {position: relative;z-index: 1;}#sk-container-id-2 div.sk-parallel {display: flex;align-items: stretch;justify-content: center;background-color: white;position: relative;}#sk-container-id-2 div.sk-item::before, #sk-container-id-2 div.sk-parallel-item::before {content: \"\";position: absolute;border-left: 1px solid gray;box-sizing: border-box;top: 0;bottom: 0;left: 50%;z-index: -1;}#sk-container-id-2 div.sk-parallel-item {display: flex;flex-direction: column;z-index: 1;position: relative;background-color: white;}#sk-container-id-2 div.sk-parallel-item:first-child::after {align-self: flex-end;width: 50%;}#sk-container-id-2 div.sk-parallel-item:last-child::after {align-self: flex-start;width: 50%;}#sk-container-id-2 div.sk-parallel-item:only-child::after {width: 0;}#sk-container-id-2 div.sk-dashed-wrapped {border: 1px dashed gray;margin: 0 0.4em 0.5em 0.4em;box-sizing: border-box;padding-bottom: 0.4em;background-color: white;}#sk-container-id-2 div.sk-label label {font-family: monospace;font-weight: bold;display: inline-block;line-height: 1.2em;}#sk-container-id-2 div.sk-label-container {text-align: center;}#sk-container-id-2 div.sk-container {/* jupyter's `normalize.less` sets `[hidden] { display: none; }` but bootstrap.min.css set `[hidden] { display: none !important; }` so we also need the `!important` here to be able to override the default hidden behavior on the sphinx rendered scikit-learn.org. See: https://github.com/scikit-learn/scikit-learn/issues/21755 */display: inline-block !important;position: relative;}#sk-container-id-2 div.sk-text-repr-fallback {display: none;}</style><div id=\"sk-container-id-2\" class=\"sk-top-container\"><div class=\"sk-text-repr-fallback\"><pre>LogisticRegression()</pre><b>In a Jupyter environment, please rerun this cell to show the HTML representation or trust the notebook. <br />On GitHub, the HTML representation is unable to render, please try loading this page with nbviewer.org.</b></div><div class=\"sk-container\" hidden><div class=\"sk-item\"><div class=\"sk-estimator sk-toggleable\"><input class=\"sk-toggleable__control sk-hidden--visually\" id=\"sk-estimator-id-2\" type=\"checkbox\" checked><label for=\"sk-estimator-id-2\" class=\"sk-toggleable__label sk-toggleable__label-arrow\">LogisticRegression</label><div class=\"sk-toggleable__content\"><pre>LogisticRegression()</pre></div></div></div></div></div>"
      ],
      "text/plain": [
       "LogisticRegression()"
      ]
     },
     "execution_count": 20,
     "metadata": {},
     "output_type": "execute_result"
    }
   ],
   "source": [
    "lr.fit(X_train,y_train)"
   ]
  },
  {
   "cell_type": "code",
   "execution_count": 21,
   "id": "c7bdaa27",
   "metadata": {},
   "outputs": [],
   "source": [
    "y_pred=lr.predict(X_test)"
   ]
  },
  {
   "cell_type": "code",
   "execution_count": 22,
   "id": "c559817f",
   "metadata": {},
   "outputs": [
    {
     "data": {
      "text/plain": [
       "array([False, False, False, False, False])"
      ]
     },
     "execution_count": 22,
     "metadata": {},
     "output_type": "execute_result"
    }
   ],
   "source": [
    "y_pred[:5]"
   ]
  },
  {
   "cell_type": "code",
   "execution_count": 23,
   "id": "bf61a6ea",
   "metadata": {},
   "outputs": [
    {
     "data": {
      "text/plain": [
       "15924    False\n",
       "67582    False\n",
       "27973    False\n",
       "88527    False\n",
       "89445    False\n",
       "Name: hazardous, dtype: bool"
      ]
     },
     "execution_count": 23,
     "metadata": {},
     "output_type": "execute_result"
    }
   ],
   "source": [
    "y_test[:5]"
   ]
  },
  {
   "cell_type": "code",
   "execution_count": 24,
   "id": "e587a5d5",
   "metadata": {},
   "outputs": [
    {
     "data": {
      "text/plain": [
       "array([[16116,  1683],\n",
       "       [  243,   126]], dtype=int64)"
      ]
     },
     "execution_count": 24,
     "metadata": {},
     "output_type": "execute_result"
    }
   ],
   "source": [
    "from sklearn.metrics import confusion_matrix\n",
    "confusion_matrix(y_pred,y_test)"
   ]
  },
  {
   "cell_type": "code",
   "execution_count": 25,
   "id": "c75c84a8",
   "metadata": {},
   "outputs": [
    {
     "data": {
      "text/plain": [
       "0.8939894319682959"
      ]
     },
     "execution_count": 25,
     "metadata": {},
     "output_type": "execute_result"
    }
   ],
   "source": [
    "lr.score(X_test,y_test)"
   ]
  },
  {
   "cell_type": "markdown",
   "id": "f6d296fd",
   "metadata": {},
   "source": [
    "(positive =false)<br>\n",
    "true positive false said false, false positive true said false,false negative false said true,true negative true said true "
   ]
  },
  {
   "cell_type": "code",
   "execution_count": null,
   "id": "786bc68d",
   "metadata": {},
   "outputs": [],
   "source": []
  },
  {
   "cell_type": "code",
   "execution_count": null,
   "id": "6ffade62",
   "metadata": {},
   "outputs": [],
   "source": []
  },
  {
   "cell_type": "code",
   "execution_count": null,
   "id": "f4e08a8f",
   "metadata": {},
   "outputs": [],
   "source": []
  },
  {
   "cell_type": "code",
   "execution_count": null,
   "id": "46f034fb",
   "metadata": {},
   "outputs": [],
   "source": []
  },
  {
   "cell_type": "code",
   "execution_count": 55,
   "id": "1aa2222f",
   "metadata": {},
   "outputs": [
    {
     "data": {
      "text/html": [
       "<div>\n",
       "<style scoped>\n",
       "    .dataframe tbody tr th:only-of-type {\n",
       "        vertical-align: middle;\n",
       "    }\n",
       "\n",
       "    .dataframe tbody tr th {\n",
       "        vertical-align: top;\n",
       "    }\n",
       "\n",
       "    .dataframe thead th {\n",
       "        text-align: right;\n",
       "    }\n",
       "</style>\n",
       "<table border=\"1\" class=\"dataframe\">\n",
       "  <thead>\n",
       "    <tr style=\"text-align: right;\">\n",
       "      <th></th>\n",
       "      <th>id</th>\n",
       "      <th>name</th>\n",
       "      <th>est_diameter_min</th>\n",
       "      <th>est_diameter_max</th>\n",
       "      <th>relative_velocity</th>\n",
       "      <th>miss_distance</th>\n",
       "      <th>orbiting_body</th>\n",
       "      <th>sentry_object</th>\n",
       "      <th>absolute_magnitude</th>\n",
       "      <th>hazardous</th>\n",
       "    </tr>\n",
       "  </thead>\n",
       "  <tbody>\n",
       "    <tr>\n",
       "      <th>0</th>\n",
       "      <td>2162635</td>\n",
       "      <td>162635 (2000 SS164)</td>\n",
       "      <td>1.198271</td>\n",
       "      <td>2.679415</td>\n",
       "      <td>13569.249224</td>\n",
       "      <td>5.483974e+07</td>\n",
       "      <td>Earth</td>\n",
       "      <td>False</td>\n",
       "      <td>16.73</td>\n",
       "      <td>False</td>\n",
       "    </tr>\n",
       "    <tr>\n",
       "      <th>1</th>\n",
       "      <td>2277475</td>\n",
       "      <td>277475 (2005 WK4)</td>\n",
       "      <td>0.265800</td>\n",
       "      <td>0.594347</td>\n",
       "      <td>73588.726663</td>\n",
       "      <td>6.143813e+07</td>\n",
       "      <td>Earth</td>\n",
       "      <td>False</td>\n",
       "      <td>20.00</td>\n",
       "      <td>True</td>\n",
       "    </tr>\n",
       "    <tr>\n",
       "      <th>2</th>\n",
       "      <td>2512244</td>\n",
       "      <td>512244 (2015 YE18)</td>\n",
       "      <td>0.722030</td>\n",
       "      <td>1.614507</td>\n",
       "      <td>114258.692129</td>\n",
       "      <td>4.979872e+07</td>\n",
       "      <td>Earth</td>\n",
       "      <td>False</td>\n",
       "      <td>17.83</td>\n",
       "      <td>False</td>\n",
       "    </tr>\n",
       "    <tr>\n",
       "      <th>3</th>\n",
       "      <td>3596030</td>\n",
       "      <td>(2012 BV13)</td>\n",
       "      <td>0.096506</td>\n",
       "      <td>0.215794</td>\n",
       "      <td>24764.303138</td>\n",
       "      <td>2.543497e+07</td>\n",
       "      <td>Earth</td>\n",
       "      <td>False</td>\n",
       "      <td>22.20</td>\n",
       "      <td>False</td>\n",
       "    </tr>\n",
       "    <tr>\n",
       "      <th>4</th>\n",
       "      <td>3667127</td>\n",
       "      <td>(2014 GE35)</td>\n",
       "      <td>0.255009</td>\n",
       "      <td>0.570217</td>\n",
       "      <td>42737.733765</td>\n",
       "      <td>4.627557e+07</td>\n",
       "      <td>Earth</td>\n",
       "      <td>False</td>\n",
       "      <td>20.09</td>\n",
       "      <td>True</td>\n",
       "    </tr>\n",
       "  </tbody>\n",
       "</table>\n",
       "</div>"
      ],
      "text/plain": [
       "        id                 name  est_diameter_min  est_diameter_max  \\\n",
       "0  2162635  162635 (2000 SS164)          1.198271          2.679415   \n",
       "1  2277475    277475 (2005 WK4)          0.265800          0.594347   \n",
       "2  2512244   512244 (2015 YE18)          0.722030          1.614507   \n",
       "3  3596030          (2012 BV13)          0.096506          0.215794   \n",
       "4  3667127          (2014 GE35)          0.255009          0.570217   \n",
       "\n",
       "   relative_velocity  miss_distance orbiting_body  sentry_object  \\\n",
       "0       13569.249224   5.483974e+07         Earth          False   \n",
       "1       73588.726663   6.143813e+07         Earth          False   \n",
       "2      114258.692129   4.979872e+07         Earth          False   \n",
       "3       24764.303138   2.543497e+07         Earth          False   \n",
       "4       42737.733765   4.627557e+07         Earth          False   \n",
       "\n",
       "   absolute_magnitude  hazardous  \n",
       "0               16.73      False  \n",
       "1               20.00       True  \n",
       "2               17.83      False  \n",
       "3               22.20      False  \n",
       "4               20.09       True  "
      ]
     },
     "execution_count": 55,
     "metadata": {},
     "output_type": "execute_result"
    }
   ],
   "source": [
    "df2=pd.read_csv(r\"C:\\Users\\user\\Downloads\\archive\\neo_v2.csv\")\n",
    "df2.head()"
   ]
  },
  {
   "cell_type": "code",
   "execution_count": 56,
   "id": "7af41df7",
   "metadata": {},
   "outputs": [],
   "source": [
    "df2.drop(columns=[\"id\",\"name\",\"orbiting_body\",\"sentry_object\"],inplace=True)"
   ]
  },
  {
   "cell_type": "code",
   "execution_count": 57,
   "id": "77ddfbb3",
   "metadata": {},
   "outputs": [
    {
     "data": {
      "text/html": [
       "<div>\n",
       "<style scoped>\n",
       "    .dataframe tbody tr th:only-of-type {\n",
       "        vertical-align: middle;\n",
       "    }\n",
       "\n",
       "    .dataframe tbody tr th {\n",
       "        vertical-align: top;\n",
       "    }\n",
       "\n",
       "    .dataframe thead th {\n",
       "        text-align: right;\n",
       "    }\n",
       "</style>\n",
       "<table border=\"1\" class=\"dataframe\">\n",
       "  <thead>\n",
       "    <tr style=\"text-align: right;\">\n",
       "      <th></th>\n",
       "      <th>est_diameter_min</th>\n",
       "      <th>est_diameter_max</th>\n",
       "      <th>relative_velocity</th>\n",
       "      <th>miss_distance</th>\n",
       "      <th>absolute_magnitude</th>\n",
       "      <th>hazardous</th>\n",
       "    </tr>\n",
       "  </thead>\n",
       "  <tbody>\n",
       "    <tr>\n",
       "      <th>0</th>\n",
       "      <td>1.198271</td>\n",
       "      <td>2.679415</td>\n",
       "      <td>13569.249224</td>\n",
       "      <td>5.483974e+07</td>\n",
       "      <td>16.73</td>\n",
       "      <td>False</td>\n",
       "    </tr>\n",
       "    <tr>\n",
       "      <th>1</th>\n",
       "      <td>0.265800</td>\n",
       "      <td>0.594347</td>\n",
       "      <td>73588.726663</td>\n",
       "      <td>6.143813e+07</td>\n",
       "      <td>20.00</td>\n",
       "      <td>True</td>\n",
       "    </tr>\n",
       "    <tr>\n",
       "      <th>2</th>\n",
       "      <td>0.722030</td>\n",
       "      <td>1.614507</td>\n",
       "      <td>114258.692129</td>\n",
       "      <td>4.979872e+07</td>\n",
       "      <td>17.83</td>\n",
       "      <td>False</td>\n",
       "    </tr>\n",
       "    <tr>\n",
       "      <th>3</th>\n",
       "      <td>0.096506</td>\n",
       "      <td>0.215794</td>\n",
       "      <td>24764.303138</td>\n",
       "      <td>2.543497e+07</td>\n",
       "      <td>22.20</td>\n",
       "      <td>False</td>\n",
       "    </tr>\n",
       "    <tr>\n",
       "      <th>4</th>\n",
       "      <td>0.255009</td>\n",
       "      <td>0.570217</td>\n",
       "      <td>42737.733765</td>\n",
       "      <td>4.627557e+07</td>\n",
       "      <td>20.09</td>\n",
       "      <td>True</td>\n",
       "    </tr>\n",
       "  </tbody>\n",
       "</table>\n",
       "</div>"
      ],
      "text/plain": [
       "   est_diameter_min  est_diameter_max  relative_velocity  miss_distance  \\\n",
       "0          1.198271          2.679415       13569.249224   5.483974e+07   \n",
       "1          0.265800          0.594347       73588.726663   6.143813e+07   \n",
       "2          0.722030          1.614507      114258.692129   4.979872e+07   \n",
       "3          0.096506          0.215794       24764.303138   2.543497e+07   \n",
       "4          0.255009          0.570217       42737.733765   4.627557e+07   \n",
       "\n",
       "   absolute_magnitude  hazardous  \n",
       "0               16.73      False  \n",
       "1               20.00       True  \n",
       "2               17.83      False  \n",
       "3               22.20      False  \n",
       "4               20.09       True  "
      ]
     },
     "execution_count": 57,
     "metadata": {},
     "output_type": "execute_result"
    }
   ],
   "source": [
    "df2.head()"
   ]
  },
  {
   "cell_type": "code",
   "execution_count": 58,
   "id": "0f004b71",
   "metadata": {},
   "outputs": [
    {
     "data": {
      "text/html": [
       "<div>\n",
       "<style scoped>\n",
       "    .dataframe tbody tr th:only-of-type {\n",
       "        vertical-align: middle;\n",
       "    }\n",
       "\n",
       "    .dataframe tbody tr th {\n",
       "        vertical-align: top;\n",
       "    }\n",
       "\n",
       "    .dataframe thead th {\n",
       "        text-align: right;\n",
       "    }\n",
       "</style>\n",
       "<table border=\"1\" class=\"dataframe\">\n",
       "  <thead>\n",
       "    <tr style=\"text-align: right;\">\n",
       "      <th></th>\n",
       "      <th>est_diameter_min</th>\n",
       "      <th>est_diameter_max</th>\n",
       "      <th>relative_velocity</th>\n",
       "      <th>miss_distance</th>\n",
       "      <th>absolute_magnitude</th>\n",
       "      <th>hazardous</th>\n",
       "    </tr>\n",
       "  </thead>\n",
       "  <tbody>\n",
       "    <tr>\n",
       "      <th>1</th>\n",
       "      <td>0.265800</td>\n",
       "      <td>0.594347</td>\n",
       "      <td>73588.726663</td>\n",
       "      <td>6.143813e+07</td>\n",
       "      <td>20.00</td>\n",
       "      <td>True</td>\n",
       "    </tr>\n",
       "    <tr>\n",
       "      <th>4</th>\n",
       "      <td>0.255009</td>\n",
       "      <td>0.570217</td>\n",
       "      <td>42737.733765</td>\n",
       "      <td>4.627557e+07</td>\n",
       "      <td>20.09</td>\n",
       "      <td>True</td>\n",
       "    </tr>\n",
       "    <tr>\n",
       "      <th>10</th>\n",
       "      <td>0.252671</td>\n",
       "      <td>0.564989</td>\n",
       "      <td>58430.697200</td>\n",
       "      <td>3.833750e+07</td>\n",
       "      <td>20.11</td>\n",
       "      <td>True</td>\n",
       "    </tr>\n",
       "    <tr>\n",
       "      <th>23</th>\n",
       "      <td>0.201630</td>\n",
       "      <td>0.450858</td>\n",
       "      <td>115899.180498</td>\n",
       "      <td>1.510102e+07</td>\n",
       "      <td>20.60</td>\n",
       "      <td>True</td>\n",
       "    </tr>\n",
       "    <tr>\n",
       "      <th>27</th>\n",
       "      <td>0.110804</td>\n",
       "      <td>0.247765</td>\n",
       "      <td>48655.305132</td>\n",
       "      <td>3.279775e+07</td>\n",
       "      <td>21.90</td>\n",
       "      <td>True</td>\n",
       "    </tr>\n",
       "    <tr>\n",
       "      <th>...</th>\n",
       "      <td>...</td>\n",
       "      <td>...</td>\n",
       "      <td>...</td>\n",
       "      <td>...</td>\n",
       "      <td>...</td>\n",
       "      <td>...</td>\n",
       "    </tr>\n",
       "    <tr>\n",
       "      <th>90782</th>\n",
       "      <td>0.133216</td>\n",
       "      <td>0.297879</td>\n",
       "      <td>67595.756852</td>\n",
       "      <td>5.681059e+07</td>\n",
       "      <td>21.50</td>\n",
       "      <td>True</td>\n",
       "    </tr>\n",
       "    <tr>\n",
       "      <th>90794</th>\n",
       "      <td>0.104847</td>\n",
       "      <td>0.234444</td>\n",
       "      <td>51149.696785</td>\n",
       "      <td>5.450002e+07</td>\n",
       "      <td>22.02</td>\n",
       "      <td>True</td>\n",
       "    </tr>\n",
       "    <tr>\n",
       "      <th>90811</th>\n",
       "      <td>0.356907</td>\n",
       "      <td>0.798068</td>\n",
       "      <td>33008.617883</td>\n",
       "      <td>7.189835e+07</td>\n",
       "      <td>19.36</td>\n",
       "      <td>True</td>\n",
       "    </tr>\n",
       "    <tr>\n",
       "      <th>90812</th>\n",
       "      <td>1.034082</td>\n",
       "      <td>2.312278</td>\n",
       "      <td>53362.798148</td>\n",
       "      <td>4.756627e+07</td>\n",
       "      <td>17.05</td>\n",
       "      <td>True</td>\n",
       "    </tr>\n",
       "    <tr>\n",
       "      <th>90818</th>\n",
       "      <td>0.508809</td>\n",
       "      <td>1.137732</td>\n",
       "      <td>71465.448580</td>\n",
       "      <td>8.894222e+06</td>\n",
       "      <td>18.59</td>\n",
       "      <td>True</td>\n",
       "    </tr>\n",
       "  </tbody>\n",
       "</table>\n",
       "<p>8840 rows × 6 columns</p>\n",
       "</div>"
      ],
      "text/plain": [
       "       est_diameter_min  est_diameter_max  relative_velocity  miss_distance  \\\n",
       "1              0.265800          0.594347       73588.726663   6.143813e+07   \n",
       "4              0.255009          0.570217       42737.733765   4.627557e+07   \n",
       "10             0.252671          0.564989       58430.697200   3.833750e+07   \n",
       "23             0.201630          0.450858      115899.180498   1.510102e+07   \n",
       "27             0.110804          0.247765       48655.305132   3.279775e+07   \n",
       "...                 ...               ...                ...            ...   \n",
       "90782          0.133216          0.297879       67595.756852   5.681059e+07   \n",
       "90794          0.104847          0.234444       51149.696785   5.450002e+07   \n",
       "90811          0.356907          0.798068       33008.617883   7.189835e+07   \n",
       "90812          1.034082          2.312278       53362.798148   4.756627e+07   \n",
       "90818          0.508809          1.137732       71465.448580   8.894222e+06   \n",
       "\n",
       "       absolute_magnitude  hazardous  \n",
       "1                   20.00       True  \n",
       "4                   20.09       True  \n",
       "10                  20.11       True  \n",
       "23                  20.60       True  \n",
       "27                  21.90       True  \n",
       "...                   ...        ...  \n",
       "90782               21.50       True  \n",
       "90794               22.02       True  \n",
       "90811               19.36       True  \n",
       "90812               17.05       True  \n",
       "90818               18.59       True  \n",
       "\n",
       "[8840 rows x 6 columns]"
      ]
     },
     "execution_count": 58,
     "metadata": {},
     "output_type": "execute_result"
    }
   ],
   "source": [
    "df2[df2[\"hazardous\"]==True]"
   ]
  },
  {
   "cell_type": "code",
   "execution_count": 51,
   "id": "5eee1128",
   "metadata": {},
   "outputs": [
    {
     "name": "stderr",
     "output_type": "stream",
     "text": [
      "C:\\Users\\user\\AppData\\Roaming\\Python\\Python310\\site-packages\\sklearn\\base.py:439: UserWarning: X does not have valid feature names, but MinMaxScaler was fitted with feature names\n",
      "  warnings.warn(\n"
     ]
    },
    {
     "data": {
      "text/plain": [
       "array([ True])"
      ]
     },
     "execution_count": 51,
     "metadata": {},
     "output_type": "execute_result"
    }
   ],
   "source": [
    "temp=mms.transform([[0.508809,1.137732,71465.448580,8.894222e+06,18.59]])\n",
    "lr.predict(temp)"
   ]
  },
  {
   "cell_type": "code",
   "execution_count": 30,
   "id": "33242d5f",
   "metadata": {},
   "outputs": [],
   "source": [
    "X2=df2.drop(columns=[\"hazardous\"])\n",
    "y2=df2[\"hazardous\"]"
   ]
  },
  {
   "cell_type": "code",
   "execution_count": 31,
   "id": "e5db3c05",
   "metadata": {},
   "outputs": [
    {
     "data": {
      "text/plain": [
       "array([[3.16072151e-02, 3.16072151e-02, 5.64469972e-02, 7.33140811e-01,\n",
       "        3.12891114e-01],\n",
       "       [6.99859604e-03, 6.99859603e-03, 3.09921777e-01, 8.21364026e-01,\n",
       "        4.49311640e-01],\n",
       "       [1.90388437e-02, 1.90388437e-02, 4.81679530e-01, 6.65740213e-01,\n",
       "        3.58781811e-01],\n",
       "       ...,\n",
       "       [8.27278640e-04, 8.27278640e-04, 3.10974339e-02, 3.79640314e-01,\n",
       "        6.41218189e-01],\n",
       "       [1.77130266e-04, 1.77130265e-04, 2.91383698e-01, 9.18352249e-01,\n",
       "        7.74718398e-01],\n",
       "       [1.03590911e-03, 1.03590911e-03, 1.13271142e-01, 7.99088943e-01,\n",
       "        6.21193158e-01]])"
      ]
     },
     "execution_count": 31,
     "metadata": {},
     "output_type": "execute_result"
    }
   ],
   "source": [
    "X2=mms.transform(X2)\n",
    "X2"
   ]
  },
  {
   "cell_type": "code",
   "execution_count": 32,
   "id": "d2d682e3",
   "metadata": {},
   "outputs": [
    {
     "data": {
      "text/plain": [
       "array([False, False,  True, ..., False, False, False])"
      ]
     },
     "execution_count": 32,
     "metadata": {},
     "output_type": "execute_result"
    }
   ],
   "source": [
    "v2pred=lr.predict(X2)\n",
    "v2pred"
   ]
  },
  {
   "cell_type": "code",
   "execution_count": 33,
   "id": "cd934ede",
   "metadata": {
    "scrolled": true
   },
   "outputs": [
    {
     "data": {
      "text/plain": [
       "array([[80832,  8247],\n",
       "       [ 1164,   593]], dtype=int64)"
      ]
     },
     "execution_count": 33,
     "metadata": {},
     "output_type": "execute_result"
    }
   ],
   "source": [
    "confusion_matrix(v2pred,y2)"
   ]
  },
  {
   "cell_type": "code",
   "execution_count": 34,
   "id": "618fc37e",
   "metadata": {
    "scrolled": true
   },
   "outputs": [
    {
     "data": {
      "text/plain": [
       "0.8963957021445242"
      ]
     },
     "execution_count": 34,
     "metadata": {},
     "output_type": "execute_result"
    }
   ],
   "source": [
    "lr.score(X2,y2)"
   ]
  },
  {
   "cell_type": "code",
   "execution_count": 39,
   "id": "9603bfa6",
   "metadata": {},
   "outputs": [],
   "source": [
    "jb.dump(lr,open(\"Logistic Regression2.sav\",\"wb\"))"
   ]
  },
  {
   "cell_type": "code",
   "execution_count": 40,
   "id": "cdafe2ef",
   "metadata": {},
   "outputs": [],
   "source": [
    "jb.dump(mms,open(\"MinMaxS2.sav\",\"wb\"))"
   ]
  },
  {
   "cell_type": "code",
   "execution_count": 41,
   "id": "736ac45f",
   "metadata": {},
   "outputs": [],
   "source": [
    "import pickle"
   ]
  },
  {
   "cell_type": "code",
   "execution_count": 42,
   "id": "93efc8e4",
   "metadata": {},
   "outputs": [],
   "source": [
    "pickle.dump(lr,open(\"Logistic Regression2.pkl\",\"wb\"))"
   ]
  },
  {
   "cell_type": "code",
   "execution_count": 43,
   "id": "2ff04c6e",
   "metadata": {},
   "outputs": [],
   "source": [
    "pickle.dump(mms,open(\"MinMaxS2.pkl\",\"wb\"))"
   ]
  },
  {
   "cell_type": "code",
   "execution_count": null,
   "id": "73952afb",
   "metadata": {},
   "outputs": [],
   "source": []
  },
  {
   "cell_type": "code",
   "execution_count": null,
   "id": "8ebe71c9",
   "metadata": {},
   "outputs": [],
   "source": []
  },
  {
   "cell_type": "code",
   "execution_count": null,
   "id": "73ad6816",
   "metadata": {},
   "outputs": [],
   "source": []
  },
  {
   "cell_type": "code",
   "execution_count": null,
   "id": "ff8fd616",
   "metadata": {},
   "outputs": [],
   "source": []
  },
  {
   "cell_type": "code",
   "execution_count": null,
   "id": "88dad47e",
   "metadata": {},
   "outputs": [],
   "source": []
  },
  {
   "cell_type": "code",
   "execution_count": null,
   "id": "08dc9537",
   "metadata": {},
   "outputs": [],
   "source": []
  },
  {
   "cell_type": "code",
   "execution_count": null,
   "id": "950848b3",
   "metadata": {},
   "outputs": [],
   "source": []
  },
  {
   "cell_type": "code",
   "execution_count": null,
   "id": "5e40baa9",
   "metadata": {},
   "outputs": [],
   "source": []
  },
  {
   "cell_type": "code",
   "execution_count": null,
   "id": "4875527e",
   "metadata": {},
   "outputs": [],
   "source": []
  },
  {
   "cell_type": "code",
   "execution_count": null,
   "id": "1b172d42",
   "metadata": {},
   "outputs": [],
   "source": []
  },
  {
   "cell_type": "code",
   "execution_count": null,
   "id": "5144c4bb",
   "metadata": {},
   "outputs": [],
   "source": []
  },
  {
   "cell_type": "code",
   "execution_count": null,
   "id": "399dde13",
   "metadata": {},
   "outputs": [],
   "source": []
  },
  {
   "cell_type": "code",
   "execution_count": null,
   "id": "c17b3c2d",
   "metadata": {},
   "outputs": [],
   "source": []
  },
  {
   "cell_type": "code",
   "execution_count": null,
   "id": "f64ccd9c",
   "metadata": {},
   "outputs": [],
   "source": []
  },
  {
   "cell_type": "code",
   "execution_count": null,
   "id": "5615d4f6",
   "metadata": {},
   "outputs": [],
   "source": []
  },
  {
   "cell_type": "code",
   "execution_count": null,
   "id": "a68a9df7",
   "metadata": {},
   "outputs": [],
   "source": []
  },
  {
   "cell_type": "code",
   "execution_count": null,
   "id": "bd96adfe",
   "metadata": {},
   "outputs": [],
   "source": []
  },
  {
   "cell_type": "code",
   "execution_count": null,
   "id": "329b1cb2",
   "metadata": {},
   "outputs": [],
   "source": []
  },
  {
   "cell_type": "code",
   "execution_count": null,
   "id": "d13e7c98",
   "metadata": {},
   "outputs": [],
   "source": []
  },
  {
   "cell_type": "code",
   "execution_count": 52,
   "id": "b1b91be2",
   "metadata": {},
   "outputs": [
    {
     "name": "stdout",
     "output_type": "stream",
     "text": [
      "Requirement already satisfied: imbalanced-learn in c:\\users\\user\\anaconda3\\lib\\site-packages (0.10.1)\n",
      "Requirement already satisfied: numpy>=1.17.3 in c:\\users\\user\\appdata\\roaming\\python\\python310\\site-packages (from imbalanced-learn) (1.24.3)\n",
      "Requirement already satisfied: joblib>=1.1.1 in c:\\users\\user\\appdata\\roaming\\python\\python310\\site-packages (from imbalanced-learn) (1.2.0)\n",
      "Requirement already satisfied: scipy>=1.3.2 in c:\\users\\user\\appdata\\roaming\\python\\python310\\site-packages (from imbalanced-learn) (1.10.1)\n",
      "Requirement already satisfied: scikit-learn>=1.0.2 in c:\\users\\user\\appdata\\roaming\\python\\python310\\site-packages (from imbalanced-learn) (1.2.2)\n",
      "Requirement already satisfied: threadpoolctl>=2.0.0 in c:\\users\\user\\appdata\\roaming\\python\\python310\\site-packages (from imbalanced-learn) (3.1.0)\n",
      "Note: you may need to restart the kernel to use updated packages.\n"
     ]
    }
   ],
   "source": [
    "pip install imbalanced-learn"
   ]
  },
  {
   "cell_type": "code",
   "execution_count": 53,
   "id": "8d7ef634",
   "metadata": {},
   "outputs": [],
   "source": [
    "from imblearn.under_sampling import RandomUnderSampler"
   ]
  },
  {
   "cell_type": "code",
   "execution_count": 54,
   "id": "6c408e6c",
   "metadata": {},
   "outputs": [],
   "source": [
    "underSampler=RandomUnderSampler(random_state=40)"
   ]
  },
  {
   "cell_type": "code",
   "execution_count": 59,
   "id": "47b19651",
   "metadata": {},
   "outputs": [],
   "source": [
    "X2=df2.drop(columns=[\"hazardous\"])\n",
    "y2=df2[\"hazardous\"]"
   ]
  },
  {
   "cell_type": "code",
   "execution_count": 60,
   "id": "642a9143",
   "metadata": {},
   "outputs": [
    {
     "data": {
      "text/html": [
       "<div>\n",
       "<style scoped>\n",
       "    .dataframe tbody tr th:only-of-type {\n",
       "        vertical-align: middle;\n",
       "    }\n",
       "\n",
       "    .dataframe tbody tr th {\n",
       "        vertical-align: top;\n",
       "    }\n",
       "\n",
       "    .dataframe thead th {\n",
       "        text-align: right;\n",
       "    }\n",
       "</style>\n",
       "<table border=\"1\" class=\"dataframe\">\n",
       "  <thead>\n",
       "    <tr style=\"text-align: right;\">\n",
       "      <th></th>\n",
       "      <th>est_diameter_min</th>\n",
       "      <th>est_diameter_max</th>\n",
       "      <th>relative_velocity</th>\n",
       "      <th>miss_distance</th>\n",
       "      <th>absolute_magnitude</th>\n",
       "    </tr>\n",
       "  </thead>\n",
       "  <tbody>\n",
       "    <tr>\n",
       "      <th>88776</th>\n",
       "      <td>0.003635</td>\n",
       "      <td>0.008129</td>\n",
       "      <td>94110.830536</td>\n",
       "      <td>1.851562e+05</td>\n",
       "      <td>29.32</td>\n",
       "    </tr>\n",
       "    <tr>\n",
       "      <th>63736</th>\n",
       "      <td>0.080270</td>\n",
       "      <td>0.179490</td>\n",
       "      <td>73888.926916</td>\n",
       "      <td>4.119447e+07</td>\n",
       "      <td>22.60</td>\n",
       "    </tr>\n",
       "    <tr>\n",
       "      <th>40719</th>\n",
       "      <td>0.402305</td>\n",
       "      <td>0.899580</td>\n",
       "      <td>70252.403886</td>\n",
       "      <td>4.083096e+07</td>\n",
       "      <td>19.10</td>\n",
       "    </tr>\n",
       "    <tr>\n",
       "      <th>3347</th>\n",
       "      <td>0.046191</td>\n",
       "      <td>0.103286</td>\n",
       "      <td>14021.388342</td>\n",
       "      <td>7.567421e+06</td>\n",
       "      <td>23.80</td>\n",
       "    </tr>\n",
       "    <tr>\n",
       "      <th>54703</th>\n",
       "      <td>0.009651</td>\n",
       "      <td>0.021579</td>\n",
       "      <td>18313.975255</td>\n",
       "      <td>4.734330e+07</td>\n",
       "      <td>27.20</td>\n",
       "    </tr>\n",
       "    <tr>\n",
       "      <th>...</th>\n",
       "      <td>...</td>\n",
       "      <td>...</td>\n",
       "      <td>...</td>\n",
       "      <td>...</td>\n",
       "      <td>...</td>\n",
       "    </tr>\n",
       "    <tr>\n",
       "      <th>12895</th>\n",
       "      <td>0.002745</td>\n",
       "      <td>0.006138</td>\n",
       "      <td>61150.649114</td>\n",
       "      <td>7.473134e+07</td>\n",
       "      <td>29.93</td>\n",
       "    </tr>\n",
       "    <tr>\n",
       "      <th>60960</th>\n",
       "      <td>0.004683</td>\n",
       "      <td>0.010472</td>\n",
       "      <td>27930.769046</td>\n",
       "      <td>6.933333e+07</td>\n",
       "      <td>28.77</td>\n",
       "    </tr>\n",
       "    <tr>\n",
       "      <th>6012</th>\n",
       "      <td>0.069913</td>\n",
       "      <td>0.156329</td>\n",
       "      <td>57677.531250</td>\n",
       "      <td>4.202240e+07</td>\n",
       "      <td>22.90</td>\n",
       "    </tr>\n",
       "    <tr>\n",
       "      <th>63107</th>\n",
       "      <td>0.016771</td>\n",
       "      <td>0.037501</td>\n",
       "      <td>34871.916110</td>\n",
       "      <td>1.661405e+07</td>\n",
       "      <td>26.00</td>\n",
       "    </tr>\n",
       "    <tr>\n",
       "      <th>6558</th>\n",
       "      <td>0.036691</td>\n",
       "      <td>0.082043</td>\n",
       "      <td>49211.129434</td>\n",
       "      <td>3.753282e+07</td>\n",
       "      <td>24.30</td>\n",
       "    </tr>\n",
       "  </tbody>\n",
       "</table>\n",
       "<p>72668 rows × 5 columns</p>\n",
       "</div>"
      ],
      "text/plain": [
       "       est_diameter_min  est_diameter_max  relative_velocity  miss_distance  \\\n",
       "88776          0.003635          0.008129       94110.830536   1.851562e+05   \n",
       "63736          0.080270          0.179490       73888.926916   4.119447e+07   \n",
       "40719          0.402305          0.899580       70252.403886   4.083096e+07   \n",
       "3347           0.046191          0.103286       14021.388342   7.567421e+06   \n",
       "54703          0.009651          0.021579       18313.975255   4.734330e+07   \n",
       "...                 ...               ...                ...            ...   \n",
       "12895          0.002745          0.006138       61150.649114   7.473134e+07   \n",
       "60960          0.004683          0.010472       27930.769046   6.933333e+07   \n",
       "6012           0.069913          0.156329       57677.531250   4.202240e+07   \n",
       "63107          0.016771          0.037501       34871.916110   1.661405e+07   \n",
       "6558           0.036691          0.082043       49211.129434   3.753282e+07   \n",
       "\n",
       "       absolute_magnitude  \n",
       "88776               29.32  \n",
       "63736               22.60  \n",
       "40719               19.10  \n",
       "3347                23.80  \n",
       "54703               27.20  \n",
       "...                   ...  \n",
       "12895               29.93  \n",
       "60960               28.77  \n",
       "6012                22.90  \n",
       "63107               26.00  \n",
       "6558                24.30  \n",
       "\n",
       "[72668 rows x 5 columns]"
      ]
     },
     "execution_count": 60,
     "metadata": {},
     "output_type": "execute_result"
    }
   ],
   "source": [
    "X2_train , X2_test , y2_train , y2_test=train_test_split(X2,y2,train_size=0.8,random_state=45)\n",
    "X2_train"
   ]
  },
  {
   "cell_type": "code",
   "execution_count": 62,
   "id": "159b2762",
   "metadata": {},
   "outputs": [
    {
     "data": {
      "text/plain": [
       "array([[1.31340510e-04, 1.31340509e-04, 4.53735356e-01, 2.38542697e-03,\n",
       "        8.30493665e-01],\n",
       "       [3.45704041e-03, 3.45704041e-03, 3.56028632e-01, 5.50697588e-01,\n",
       "        5.36915684e-01],\n",
       "       [1.74322581e-02, 1.74322581e-02, 3.38457944e-01, 5.45837353e-01,\n",
       "        3.84010485e-01],\n",
       "       ...,\n",
       "       [3.00754657e-03, 3.00754657e-03, 2.77699588e-01, 5.61767404e-01,\n",
       "        5.50021844e-01],\n",
       "       [7.01374250e-04, 7.01374251e-04, 1.67509075e-01, 2.22046830e-01,\n",
       "        6.85452163e-01],\n",
       "       [1.56582602e-03, 1.56582602e-03, 2.36792244e-01, 5.01739747e-01,\n",
       "        6.11183923e-01]])"
      ]
     },
     "execution_count": 62,
     "metadata": {},
     "output_type": "execute_result"
    }
   ],
   "source": [
    "# x-min/max-min\n",
    "mms2=MinMaxScaler()\n",
    "X2_train=mms2.fit_transform(X2_train)\n",
    "X2_train"
   ]
  },
  {
   "cell_type": "code",
   "execution_count": 63,
   "id": "13acfbc1",
   "metadata": {},
   "outputs": [],
   "source": [
    "X2_resample,y2_resample =underSampler.fit_resample(X2_train,y2_train)"
   ]
  },
  {
   "cell_type": "code",
   "execution_count": 64,
   "id": "b8db18e4",
   "metadata": {},
   "outputs": [
    {
     "data": {
      "text/plain": [
       "(14062,)"
      ]
     },
     "execution_count": 64,
     "metadata": {},
     "output_type": "execute_result"
    }
   ],
   "source": [
    "y2_resample.shape"
   ]
  },
  {
   "cell_type": "code",
   "execution_count": 65,
   "id": "c09f84fb",
   "metadata": {},
   "outputs": [
    {
     "data": {
      "text/html": [
       "<style>#sk-container-id-3 {color: black;background-color: white;}#sk-container-id-3 pre{padding: 0;}#sk-container-id-3 div.sk-toggleable {background-color: white;}#sk-container-id-3 label.sk-toggleable__label {cursor: pointer;display: block;width: 100%;margin-bottom: 0;padding: 0.3em;box-sizing: border-box;text-align: center;}#sk-container-id-3 label.sk-toggleable__label-arrow:before {content: \"▸\";float: left;margin-right: 0.25em;color: #696969;}#sk-container-id-3 label.sk-toggleable__label-arrow:hover:before {color: black;}#sk-container-id-3 div.sk-estimator:hover label.sk-toggleable__label-arrow:before {color: black;}#sk-container-id-3 div.sk-toggleable__content {max-height: 0;max-width: 0;overflow: hidden;text-align: left;background-color: #f0f8ff;}#sk-container-id-3 div.sk-toggleable__content pre {margin: 0.2em;color: black;border-radius: 0.25em;background-color: #f0f8ff;}#sk-container-id-3 input.sk-toggleable__control:checked~div.sk-toggleable__content {max-height: 200px;max-width: 100%;overflow: auto;}#sk-container-id-3 input.sk-toggleable__control:checked~label.sk-toggleable__label-arrow:before {content: \"▾\";}#sk-container-id-3 div.sk-estimator input.sk-toggleable__control:checked~label.sk-toggleable__label {background-color: #d4ebff;}#sk-container-id-3 div.sk-label input.sk-toggleable__control:checked~label.sk-toggleable__label {background-color: #d4ebff;}#sk-container-id-3 input.sk-hidden--visually {border: 0;clip: rect(1px 1px 1px 1px);clip: rect(1px, 1px, 1px, 1px);height: 1px;margin: -1px;overflow: hidden;padding: 0;position: absolute;width: 1px;}#sk-container-id-3 div.sk-estimator {font-family: monospace;background-color: #f0f8ff;border: 1px dotted black;border-radius: 0.25em;box-sizing: border-box;margin-bottom: 0.5em;}#sk-container-id-3 div.sk-estimator:hover {background-color: #d4ebff;}#sk-container-id-3 div.sk-parallel-item::after {content: \"\";width: 100%;border-bottom: 1px solid gray;flex-grow: 1;}#sk-container-id-3 div.sk-label:hover label.sk-toggleable__label {background-color: #d4ebff;}#sk-container-id-3 div.sk-serial::before {content: \"\";position: absolute;border-left: 1px solid gray;box-sizing: border-box;top: 0;bottom: 0;left: 50%;z-index: 0;}#sk-container-id-3 div.sk-serial {display: flex;flex-direction: column;align-items: center;background-color: white;padding-right: 0.2em;padding-left: 0.2em;position: relative;}#sk-container-id-3 div.sk-item {position: relative;z-index: 1;}#sk-container-id-3 div.sk-parallel {display: flex;align-items: stretch;justify-content: center;background-color: white;position: relative;}#sk-container-id-3 div.sk-item::before, #sk-container-id-3 div.sk-parallel-item::before {content: \"\";position: absolute;border-left: 1px solid gray;box-sizing: border-box;top: 0;bottom: 0;left: 50%;z-index: -1;}#sk-container-id-3 div.sk-parallel-item {display: flex;flex-direction: column;z-index: 1;position: relative;background-color: white;}#sk-container-id-3 div.sk-parallel-item:first-child::after {align-self: flex-end;width: 50%;}#sk-container-id-3 div.sk-parallel-item:last-child::after {align-self: flex-start;width: 50%;}#sk-container-id-3 div.sk-parallel-item:only-child::after {width: 0;}#sk-container-id-3 div.sk-dashed-wrapped {border: 1px dashed gray;margin: 0 0.4em 0.5em 0.4em;box-sizing: border-box;padding-bottom: 0.4em;background-color: white;}#sk-container-id-3 div.sk-label label {font-family: monospace;font-weight: bold;display: inline-block;line-height: 1.2em;}#sk-container-id-3 div.sk-label-container {text-align: center;}#sk-container-id-3 div.sk-container {/* jupyter's `normalize.less` sets `[hidden] { display: none; }` but bootstrap.min.css set `[hidden] { display: none !important; }` so we also need the `!important` here to be able to override the default hidden behavior on the sphinx rendered scikit-learn.org. See: https://github.com/scikit-learn/scikit-learn/issues/21755 */display: inline-block !important;position: relative;}#sk-container-id-3 div.sk-text-repr-fallback {display: none;}</style><div id=\"sk-container-id-3\" class=\"sk-top-container\"><div class=\"sk-text-repr-fallback\"><pre>LogisticRegression()</pre><b>In a Jupyter environment, please rerun this cell to show the HTML representation or trust the notebook. <br />On GitHub, the HTML representation is unable to render, please try loading this page with nbviewer.org.</b></div><div class=\"sk-container\" hidden><div class=\"sk-item\"><div class=\"sk-estimator sk-toggleable\"><input class=\"sk-toggleable__control sk-hidden--visually\" id=\"sk-estimator-id-3\" type=\"checkbox\" checked><label for=\"sk-estimator-id-3\" class=\"sk-toggleable__label sk-toggleable__label-arrow\">LogisticRegression</label><div class=\"sk-toggleable__content\"><pre>LogisticRegression()</pre></div></div></div></div></div>"
      ],
      "text/plain": [
       "LogisticRegression()"
      ]
     },
     "execution_count": 65,
     "metadata": {},
     "output_type": "execute_result"
    }
   ],
   "source": [
    "lr2=LogisticRegression()\n",
    "lr2.fit(X2_resample,y2_resample)"
   ]
  },
  {
   "cell_type": "code",
   "execution_count": 66,
   "id": "fc7c480e",
   "metadata": {},
   "outputs": [],
   "source": [
    "X2_test=mms2.transform(X2_test)"
   ]
  },
  {
   "cell_type": "code",
   "execution_count": 67,
   "id": "51474530",
   "metadata": {},
   "outputs": [],
   "source": [
    "abdo=lr2.predict(X2_test)"
   ]
  },
  {
   "cell_type": "code",
   "execution_count": 68,
   "id": "55579dee",
   "metadata": {},
   "outputs": [
    {
     "data": {
      "text/plain": [
       "array([[12597,   144],\n",
       "       [ 3762,  1665]], dtype=int64)"
      ]
     },
     "execution_count": 68,
     "metadata": {},
     "output_type": "execute_result"
    }
   ],
   "source": [
    "confusion_matrix(abdo,y2_test)"
   ]
  },
  {
   "cell_type": "markdown",
   "id": "296305e5",
   "metadata": {},
   "source": [
    "(positive =false)<br>\n",
    "true positive false said false, false positive true said false,false negative false said true,true negative true said true "
   ]
  },
  {
   "cell_type": "code",
   "execution_count": null,
   "id": "d98ab07e",
   "metadata": {},
   "outputs": [],
   "source": []
  },
  {
   "cell_type": "code",
   "execution_count": 70,
   "id": "b77884c8",
   "metadata": {},
   "outputs": [
    {
     "data": {
      "text/plain": [
       "0.785006605019815"
      ]
     },
     "execution_count": 70,
     "metadata": {},
     "output_type": "execute_result"
    }
   ],
   "source": [
    "lr2.score(X2_test,y2_test)"
   ]
  },
  {
   "cell_type": "code",
   "execution_count": null,
   "id": "55753087",
   "metadata": {},
   "outputs": [],
   "source": []
  }
 ],
 "metadata": {
  "kernelspec": {
   "display_name": "Python 3 (ipykernel)",
   "language": "python",
   "name": "python3"
  },
  "language_info": {
   "codemirror_mode": {
    "name": "ipython",
    "version": 3
   },
   "file_extension": ".py",
   "mimetype": "text/x-python",
   "name": "python",
   "nbconvert_exporter": "python",
   "pygments_lexer": "ipython3",
   "version": "3.10.9"
  }
 },
 "nbformat": 4,
 "nbformat_minor": 5
}
